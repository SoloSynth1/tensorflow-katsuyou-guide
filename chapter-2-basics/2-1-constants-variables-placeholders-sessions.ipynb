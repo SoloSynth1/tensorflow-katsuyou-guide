{
 "cells": [
  {
   "cell_type": "code",
   "execution_count": 1,
   "outputs": [
    {
     "name": "stdout",
     "output_type": "stream",
     "text": [
      "WARNING:tensorflow:From C:\\Users\\Soleil\\anaconda3\\envs\\py39_tf2\\lib\\site-packages\\tensorflow\\python\\compat\\v2_compat.py:101: disable_resource_variables (from tensorflow.python.ops.variable_scope) is deprecated and will be removed in a future version.\n",
      "Instructions for updating:\n",
      "non-resource variables are not supported in the long term\n"
     ]
    }
   ],
   "source": [
    "import tensorflow.compat.v1 as tf\n",
    "tf.disable_v2_behavior()"
   ],
   "metadata": {
    "collapsed": false,
    "pycharm": {
     "name": "#%%\n"
    }
   }
  },
  {
   "cell_type": "code",
   "execution_count": 2,
   "outputs": [
    {
     "name": "stdout",
     "output_type": "stream",
     "text": [
      "1\n",
      "[1 2]\n",
      "[[1 2]\n",
      " [3 4]]\n"
     ]
    }
   ],
   "source": [
    "# 単一の数字のテンソルを作成（ランク＝０）\n",
    "t1 = tf.constant(1, name='Rank0')\n",
    "# 配列のテンソルを作成（配列は一次元のため、ランク＝１）\n",
    "t2 = tf.constant([1, 2], name='Rank1')\n",
    "# 多次元配列（行列）のテンソルを作成（以下の場合は二次元配列で、ランク＝２）\n",
    "t3 = tf.constant([[1, 2], [3, 4]], name='Rank2')\n",
    "\n",
    "# 以下のwith句はこの時点ではおまじない\n",
    "with tf.Session() as sess:\n",
    "    # printでtensorの内容を標準出力に出力\n",
    "    print(sess.run(t1))\n",
    "    print(sess.run(t2))\n",
    "    print(sess.run(t3))"
   ],
   "metadata": {
    "collapsed": false,
    "pycharm": {
     "name": "#%%\n"
    }
   }
  },
  {
   "cell_type": "code",
   "execution_count": 4,
   "outputs": [
    {
     "name": "stdout",
     "output_type": "stream",
     "text": [
      "3\n",
      "2\n"
     ]
    }
   ],
   "source": [
    "t1 = tf.constant(1, name='Tensor1')\n",
    "t2 = tf.constant(2, name='Tensor2')\n",
    "\n",
    "add_op = tf.add(t1, t2)\n",
    "\n",
    "mul_op = tf.multiply(t1, t2)\n",
    "\n",
    "with tf.Session() as sess:\n",
    "    print(sess.run(add_op))\n",
    "    print(sess.run(mul_op))"
   ],
   "metadata": {
    "collapsed": false,
    "pycharm": {
     "name": "#%%\n"
    }
   }
  },
  {
   "cell_type": "code",
   "execution_count": 5,
   "outputs": [
    {
     "name": "stdout",
     "output_type": "stream",
     "text": [
      "1\n",
      "2\n",
      "3\n"
     ]
    }
   ],
   "source": [
    "counter = tf.Variable(0, name='counter')\n",
    "step_size = tf.constant(1, name='step_size')\n",
    "\n",
    "increment_op = tf.add(counter, step_size)\n",
    "count_up_op = tf.assign(counter, increment_op)\n",
    "\n",
    "with tf.Session() as sess:\n",
    "    sess.run(tf.global_variables_initializer())\n",
    "    print(sess.run(count_up_op))\n",
    "    print(sess.run(count_up_op))\n",
    "    print(sess.run(count_up_op))"
   ],
   "metadata": {
    "collapsed": false,
    "pycharm": {
     "name": "#%%\n"
    }
   }
  },
  {
   "cell_type": "code",
   "execution_count": 7,
   "outputs": [
    {
     "name": "stdout",
     "output_type": "stream",
     "text": [
      "3\n",
      "2\n",
      "300\n",
      "20000\n"
     ]
    }
   ],
   "source": [
    "x = tf.placeholder(tf.int32, name='x')\n",
    "y = tf.placeholder(tf.int32, name='y')\n",
    "\n",
    "add_op = tf.add(x, y)\n",
    "mul_op = tf.multiply(x, y)\n",
    "\n",
    "with tf.Session() as sess:\n",
    "    print(sess.run(add_op, feed_dict={x:1, y:2}))\n",
    "    print(sess.run(mul_op, feed_dict={x:1, y:2}))\n",
    "\n",
    "    print(sess.run(add_op, feed_dict={x:100, y:200}))\n",
    "    print(sess.run(mul_op, feed_dict={x:100, y:200}))"
   ],
   "metadata": {
    "collapsed": false,
    "pycharm": {
     "name": "#%%\n"
    }
   }
  },
  {
   "cell_type": "code",
   "execution_count": 8,
   "outputs": [
    {
     "name": "stdout",
     "output_type": "stream",
     "text": [
      "1\n",
      "2\n",
      "3\n",
      "1\n",
      "2\n",
      "3\n"
     ]
    }
   ],
   "source": [
    "counter = tf.Variable(0, name='counter')\n",
    "step_size = tf.constant(1, name='step_size')\n",
    "\n",
    "increment_op = tf.add(counter, step_size)\n",
    "count_up_op = tf.assign(counter, increment_op)\n",
    "\n",
    "with tf.Session() as sess:\n",
    "    sess.run(tf.global_variables_initializer())\n",
    "    print(sess.run(count_up_op))\n",
    "    print(sess.run(count_up_op))\n",
    "    print(sess.run(count_up_op))\n",
    "\n",
    "with tf.Session() as sess:\n",
    "    sess.run(tf.global_variables_initializer())\n",
    "    print(sess.run(count_up_op))\n",
    "    print(sess.run(count_up_op))\n",
    "    print(sess.run(count_up_op))"
   ],
   "metadata": {
    "collapsed": false,
    "pycharm": {
     "name": "#%%\n"
    }
   }
  },
  {
   "cell_type": "code",
   "execution_count": null,
   "outputs": [],
   "source": [],
   "metadata": {
    "collapsed": false,
    "pycharm": {
     "name": "#%%\n"
    }
   }
  }
 ],
 "metadata": {
  "kernelspec": {
   "display_name": "Python 3",
   "language": "python",
   "name": "python3"
  },
  "language_info": {
   "codemirror_mode": {
    "name": "ipython",
    "version": 2
   },
   "file_extension": ".py",
   "mimetype": "text/x-python",
   "name": "python",
   "nbconvert_exporter": "python",
   "pygments_lexer": "ipython2",
   "version": "2.7.6"
  }
 },
 "nbformat": 4,
 "nbformat_minor": 0
}