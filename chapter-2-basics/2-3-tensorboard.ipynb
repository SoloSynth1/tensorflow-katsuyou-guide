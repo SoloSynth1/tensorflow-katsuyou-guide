{
 "cells": [
  {
   "cell_type": "code",
   "execution_count": 1,
   "outputs": [],
   "source": [
    "import tensorflow as tf\n",
    "from tensorflow.keras import layers\n",
    "from tensorflow.keras import models"
   ],
   "metadata": {
    "collapsed": false,
    "pycharm": {
     "name": "#%%\n"
    }
   }
  },
  {
   "cell_type": "code",
   "execution_count": 2,
   "outputs": [],
   "source": [
    "import numpy as np\n",
    "import urllib.request"
   ],
   "metadata": {
    "collapsed": false,
    "pycharm": {
     "name": "#%%\n"
    }
   }
  },
  {
   "cell_type": "code",
   "execution_count": 3,
   "outputs": [],
   "source": [
    "IRIS_TRAINING = 'iris_training.csv'\n",
    "IRIS_TRAINING_URL = 'http://download.tensorflow.org/data/iris_training.csv'\n",
    "\n",
    "IRIS_TEST = 'iris_test.csv'\n",
    "IRIS_TEST_URL = 'http://download.tensorflow.org/data/iris_test.csv'\n",
    "\n",
    "with open(IRIS_TRAINING, 'wb') as f:\n",
    "    f.write(urllib.request.urlopen(IRIS_TRAINING_URL).read())\n",
    "\n",
    "with open(IRIS_TEST, 'wb') as f:\n",
    "    f.write(urllib.request.urlopen(IRIS_TEST_URL).read())"
   ],
   "metadata": {
    "collapsed": false,
    "pycharm": {
     "name": "#%%\n"
    }
   }
  },
  {
   "cell_type": "code",
   "execution_count": 4,
   "outputs": [],
   "source": [
    "training_data = np.loadtxt(IRIS_TRAINING, delimiter=',', skiprows=1)\n",
    "train_x = training_data[:, :-1]\n",
    "train_y = training_data[:, -1]\n",
    "\n",
    "test_data = np.loadtxt(IRIS_TEST, delimiter=',', skiprows=1)\n",
    "test_x = test_data[:, :-1]\n",
    "test_y = test_data[:, -1]"
   ],
   "metadata": {
    "collapsed": false,
    "pycharm": {
     "name": "#%%\n"
    }
   }
  },
  {
   "cell_type": "code",
   "execution_count": 5,
   "outputs": [],
   "source": [
    "num_classes = 3\n",
    "\n",
    "train_y = tf.keras.utils.to_categorical(train_y, num_classes)\n",
    "test_y = tf.keras.utils.to_categorical(test_y, num_classes)"
   ],
   "metadata": {
    "collapsed": false,
    "pycharm": {
     "name": "#%%\n"
    }
   }
  },
  {
   "cell_type": "code",
   "execution_count": 6,
   "outputs": [],
   "source": [
    "x = layers.Input(shape=(4,), name='input')\n",
    "hidden1 = layers.Dense(10, activation='relu', name='hidden1')(x)\n",
    "hidden2 = layers.Dense(20, activation='relu', name='hidden2')(hidden1)\n",
    "hidden3 = layers.Dense(10, activation='relu', name='hidden3')(hidden2)\n",
    "y = layers.Dense(3, activation='softmax', name='output')(hidden3)\n",
    "\n",
    "model = models.Model(x, y)"
   ],
   "metadata": {
    "collapsed": false,
    "pycharm": {
     "name": "#%%\n"
    }
   }
  },
  {
   "cell_type": "code",
   "execution_count": 7,
   "outputs": [
    {
     "name": "stdout",
     "output_type": "stream",
     "text": [
      "Model: \"model\"\n",
      "_________________________________________________________________\n",
      "Layer (type)                 Output Shape              Param #   \n",
      "=================================================================\n",
      "input (InputLayer)           [(None, 4)]               0         \n",
      "_________________________________________________________________\n",
      "hidden1 (Dense)              (None, 10)                50        \n",
      "_________________________________________________________________\n",
      "hidden2 (Dense)              (None, 20)                220       \n",
      "_________________________________________________________________\n",
      "hidden3 (Dense)              (None, 10)                210       \n",
      "_________________________________________________________________\n",
      "output (Dense)               (None, 3)                 33        \n",
      "=================================================================\n",
      "Total params: 513\n",
      "Trainable params: 513\n",
      "Non-trainable params: 0\n",
      "_________________________________________________________________\n"
     ]
    }
   ],
   "source": [
    "model.summary()"
   ],
   "metadata": {
    "collapsed": false,
    "pycharm": {
     "name": "#%%\n"
    }
   }
  },
  {
   "cell_type": "code",
   "execution_count": 8,
   "outputs": [],
   "source": [
    "model.compile(loss='categorical_crossentropy', optimizer='sgd', metrics=['accuracy'])"
   ],
   "metadata": {
    "collapsed": false,
    "pycharm": {
     "name": "#%%\n"
    }
   }
  },
  {
   "cell_type": "code",
   "execution_count": 9,
   "outputs": [],
   "source": [
    "from tensorflow.keras import callbacks\n",
    "tensorboard = callbacks.TensorBoard(log_dir=\"./logs\", histogram_freq=1)"
   ],
   "metadata": {
    "collapsed": false,
    "pycharm": {
     "name": "#%%\n"
    }
   }
  },
  {
   "cell_type": "code",
   "execution_count": 10,
   "outputs": [],
   "source": [
    "history = model.fit(train_x, train_y,\n",
    "                    batch_size=20,\n",
    "                    epochs=2000,\n",
    "                    verbose=0,\n",
    "                    validation_data=(test_x, test_y),\n",
    "                    callbacks=[tensorboard])"
   ],
   "metadata": {
    "collapsed": false,
    "pycharm": {
     "name": "#%%\n"
    }
   }
  },
  {
   "cell_type": "code",
   "execution_count": 11,
   "outputs": [
    {
     "name": "stdout",
     "output_type": "stream",
     "text": [
      "Test loss: 0.0606885701417923\n",
      "Test accuracy: 0.9666666388511658\n"
     ]
    }
   ],
   "source": [
    "score = model.evaluate(test_x, test_y, verbose=0)\n",
    "print('Test loss:', score[0])\n",
    "print('Test accuracy:', score[1])"
   ],
   "metadata": {
    "collapsed": false,
    "pycharm": {
     "name": "#%%\n"
    }
   }
  },
  {
   "cell_type": "code",
   "execution_count": 12,
   "outputs": [],
   "source": [
    "tf.keras.backend.clear_session()"
   ],
   "metadata": {
    "collapsed": false,
    "pycharm": {
     "name": "#%%\n"
    }
   }
  },
  {
   "cell_type": "code",
   "execution_count": null,
   "outputs": [],
   "source": [],
   "metadata": {
    "collapsed": false,
    "pycharm": {
     "name": "#%%\n"
    }
   }
  }
 ],
 "metadata": {
  "kernelspec": {
   "display_name": "Python 3",
   "language": "python",
   "name": "python3"
  },
  "language_info": {
   "codemirror_mode": {
    "name": "ipython",
    "version": 2
   },
   "file_extension": ".py",
   "mimetype": "text/x-python",
   "name": "python",
   "nbconvert_exporter": "python",
   "pygments_lexer": "ipython2",
   "version": "2.7.6"
  }
 },
 "nbformat": 4,
 "nbformat_minor": 0
}